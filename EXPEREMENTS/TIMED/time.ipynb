{
 "cells": [
  {
   "cell_type": "code",
   "execution_count": 61,
   "metadata": {},
   "outputs": [],
   "source": [
    "import glob\n",
    "import pandas as pd\n",
    "import matplotlib.pyplot as plt\n",
    "import numpy as np\n",
    "import seaborn as sns\n",
    "import matplotlib.gridspec as gridspec\n",
    "from itertools import combinations"
   ]
  },
  {
   "cell_type": "code",
   "execution_count": 62,
   "metadata": {},
   "outputs": [],
   "source": [
    "dfs_describe_ter = dict([(i.split('\\\\')[-1].replace('.csv', ''), pd.read_csv(i).drop(['Unnamed: 0', 'Индекс стоимости жизни'], axis=1).dropna().apply(lambda s: s.map(lambda a: float(a.replace(',', '.')) if type(a) is str else a)))\n",
    "                         for i in glob.glob(\"..\\\\..\\\\DATA\\\\Ters\\\\*\")])\n",
    "# dfs_describe_ter = \n"
   ]
  },
  {
   "cell_type": "code",
   "execution_count": 64,
   "metadata": {},
   "outputs": [],
   "source": [
    "timeline = lambda df: list(filter(lambda a: len(a) > 1, map(lambda a: list(range(*a)), combinations(range(df.shape[0]), 2))))\n"
   ]
  },
  {
   "cell_type": "code",
   "execution_count": 66,
   "metadata": {},
   "outputs": [],
   "source": [
    "timelines_data = dict()\n",
    "for i in dfs_describe_ter:\n",
    "    if dfs_describe_ter[i].shape[0] > 1:\n",
    "        timelines_data[i] = [dfs_describe_ter[i].iloc[:,j] for j in timeline(dfs_describe_ter[i])]\n"
   ]
  },
  {
   "cell_type": "code",
   "execution_count": null,
   "metadata": {},
   "outputs": [],
   "source": []
  }
 ],
 "metadata": {
  "kernelspec": {
   "display_name": "Python 3",
   "language": "python",
   "name": "python3"
  },
  "language_info": {
   "codemirror_mode": {
    "name": "ipython",
    "version": 3
   },
   "file_extension": ".py",
   "mimetype": "text/x-python",
   "name": "python",
   "nbconvert_exporter": "python",
   "pygments_lexer": "ipython3",
   "version": "3.9.2"
  },
  "orig_nbformat": 4
 },
 "nbformat": 4,
 "nbformat_minor": 2
}
