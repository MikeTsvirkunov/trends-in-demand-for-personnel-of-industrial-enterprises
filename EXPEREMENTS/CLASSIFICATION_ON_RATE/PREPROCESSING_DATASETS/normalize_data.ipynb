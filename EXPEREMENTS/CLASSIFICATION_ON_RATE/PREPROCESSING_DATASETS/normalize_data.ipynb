{
 "cells": [
  {
   "cell_type": "markdown",
   "metadata": {},
   "source": [
    "# Импорт"
   ]
  },
  {
   "cell_type": "code",
   "execution_count": 16,
   "metadata": {},
   "outputs": [],
   "source": [
    "import pandas as pd\n",
    "import matplotlib.pyplot as plt\n",
    "import numpy as np\n",
    "import seaborn as sns\n",
    "import matplotlib.gridspec as gridspec\n"
   ]
  },
  {
   "cell_type": "markdown",
   "metadata": {},
   "source": [
    "# Загрузка Датасета"
   ]
  },
  {
   "cell_type": "code",
   "execution_count": 17,
   "metadata": {},
   "outputs": [],
   "source": [
    "data = pd.read_csv('../../../DATA/Concatination_of_ters/Without_Индекс стоимости жизни/without_nan.csv').drop('Unnamed: 0', axis=1)\n",
    "datanan = pd.read_csv('../../../DATA/Concatination_of_ters/Without_Индекс стоимости жизни/with_nan.csv').drop('Unnamed: 0', axis=1)\n"
   ]
  },
  {
   "attachments": {},
   "cell_type": "markdown",
   "metadata": {},
   "source": [
    "# MinMax нормирование"
   ]
  },
  {
   "cell_type": "code",
   "execution_count": 18,
   "metadata": {},
   "outputs": [
    {
     "data": {
      "text/plain": [
       "Доходы гостиниц и аналогичных средств размещения                                0.184993\n",
       "Число гостиниц и средств размещения                                             0.081343\n",
       "Численность размещенных лиц в гостиницах и ананлогичных средствах размещения    0.095377\n",
       "Число ночевок в гостиницах и ананлогичных средствах размещения                  0.175218\n",
       "Средняя численность работников, включая внешних совместителей                   0.036228\n",
       "Число туристских фирм                                                           0.232111\n",
       "Средства, поступившие от реализации туристкого продукта                         0.175246\n",
       "Число реализованных турпакетов населению                                        0.113296\n",
       "dtype: float64"
      ]
     },
     "execution_count": 18,
     "metadata": {},
     "output_type": "execute_result"
    }
   ],
   "source": [
    "a = -1 * 2\n",
    "b = 1*0.5\n",
    "datanan_normed_by_min_max_on_columns = datanan.apply(lambda s: a + (s - s.min())/(s.max() - s.min()) * (b-a))\n",
    "datanan_normed_by_min_max_on_columns_results = np.abs(datanan_normed_by_min_max_on_columns.median() - datanan_normed_by_min_max_on_columns.mean())\n",
    "datanan_normed_by_min_max_on_columns_results\n"
   ]
  },
  {
   "cell_type": "code",
   "execution_count": 26,
   "metadata": {},
   "outputs": [
    {
     "data": {
      "text/plain": [
       "Доходы гостиниц и аналогичных средств размещения                                0.047071\n",
       "Число гостиниц и средств размещения                                             0.009868\n",
       "Численность размещенных лиц в гостиницах и ананлогичных средствах размещения    0.013728\n",
       "Число ночевок в гостиницах и ананлогичных средствах размещения                  0.010519\n",
       "Средняя численность работников, включая внешних совместителей                   0.016445\n",
       "Число туристских фирм                                                           0.030303\n",
       "Средства, поступившие от реализации туристкого продукта                         0.143123\n",
       "Число реализованных турпакетов населению                                        0.007736\n",
       "dtype: float64"
      ]
     },
     "execution_count": 26,
     "metadata": {},
     "output_type": "execute_result"
    }
   ],
   "source": [
    "datanan_normed_by_min_max_on_columns.abs().min()\n"
   ]
  },
  {
   "attachments": {},
   "cell_type": "markdown",
   "metadata": {},
   "source": [
    "# Со средне-дисперсной нормированием"
   ]
  },
  {
   "cell_type": "code",
   "execution_count": 19,
   "metadata": {},
   "outputs": [
    {
     "data": {
      "text/plain": [
       "Доходы гостиниц и аналогичных средств размещения                                0.323512\n",
       "Число гостиниц и средств размещения                                             0.125556\n",
       "Численность размещенных лиц в гостиницах и ананлогичных средствах размещения    0.166497\n",
       "Число ночевок в гостиницах и ананлогичных средствах размещения                  0.305998\n",
       "Средняя численность работников, включая внешних совместителей                   0.063150\n",
       "Число туристских фирм                                                           0.384842\n",
       "Средства, поступившие от реализации туристкого продукта                         0.361398\n",
       "Число реализованных турпакетов населению                                        0.248844\n",
       "dtype: float64"
      ]
     },
     "execution_count": 19,
     "metadata": {},
     "output_type": "execute_result"
    }
   ],
   "source": [
    "datanan_normed_by_mean_dispersion_on_columns = datanan.apply(lambda s: (s-s.mean())/s.std())\n",
    "datanan_normed_by_mean_dispersion_on_columns_results = np.abs(\n",
    "    datanan_normed_by_mean_dispersion_on_columns.median() - datanan_normed_by_mean_dispersion_on_columns.mean())\n",
    "datanan_normed_by_mean_dispersion_on_columns_results\n"
   ]
  },
  {
   "cell_type": "code",
   "execution_count": 27,
   "metadata": {},
   "outputs": [
    {
     "data": {
      "text/plain": [
       "Доходы гостиниц и аналогичных средств размещения                                0.012706\n",
       "Число гостиниц и средств размещения                                             0.001380\n",
       "Численность размещенных лиц в гостиницах и ананлогичных средствах размещения    0.006028\n",
       "Число ночевок в гостиницах и ананлогичных средствах размещения                  0.002163\n",
       "Средняя численность работников, включая внешних совместителей                   0.008550\n",
       "Число туристских фирм                                                           0.003396\n",
       "Средства, поступившие от реализации туристкого продукта                         0.017851\n",
       "Число реализованных турпакетов населению                                        0.008971\n",
       "dtype: float64"
      ]
     },
     "execution_count": 27,
     "metadata": {},
     "output_type": "execute_result"
    }
   ],
   "source": [
    "datanan_normed_by_mean_dispersion_on_columns.abs().min()"
   ]
  },
  {
   "attachments": {},
   "cell_type": "markdown",
   "metadata": {},
   "source": [
    "# Сохранение датасета"
   ]
  },
  {
   "cell_type": "code",
   "execution_count": 32,
   "metadata": {},
   "outputs": [
    {
     "data": {
      "text/plain": [
       "17    -2.000000\n",
       "19    -1.982381\n",
       "20    -1.947142\n",
       "21    -1.962803\n",
       "34    -1.553641\n",
       "         ...   \n",
       "552   -1.819890\n",
       "553   -1.882537\n",
       "554   -1.878622\n",
       "555   -1.874706\n",
       "556   -1.784652\n",
       "Name: Средняя численность работников, включая внешних совместителей, Length: 179, dtype: float64"
      ]
     },
     "execution_count": 32,
     "metadata": {},
     "output_type": "execute_result"
    }
   ],
   "source": [
    "datanan_normed_by_min_max_on_columns['Средняя численность работников, включая внешних совместителей'].dropna()\n"
   ]
  },
  {
   "cell_type": "code",
   "execution_count": 33,
   "metadata": {},
   "outputs": [
    {
     "data": {
      "text/plain": [
       "0     455.0\n",
       "1     532.0\n",
       "2     511.0\n",
       "3     465.0\n",
       "4     525.0\n",
       "      ...  \n",
       "63     92.0\n",
       "64     60.0\n",
       "65     62.0\n",
       "66     64.0\n",
       "67    110.0\n",
       "Name: Средняя численность работников, включая внешних совместителей, Length: 68, dtype: float64"
      ]
     },
     "execution_count": 33,
     "metadata": {},
     "output_type": "execute_result"
    }
   ],
   "source": [
    "data['Средняя численность работников, включая внешних совместителей'].dropna()\n"
   ]
  },
  {
   "cell_type": "code",
   "execution_count": 28,
   "metadata": {},
   "outputs": [],
   "source": [
    "datanan_normed_by_min_max_on_columns.to_csv(\n",
    "    '../../../DATA/Concatination_of_ters/Without_Индекс стоимости жизни/normed_nan.csv')\n"
   ]
  }
 ],
 "metadata": {
  "kernelspec": {
   "display_name": "Python 3",
   "language": "python",
   "name": "python3"
  },
  "language_info": {
   "codemirror_mode": {
    "name": "ipython",
    "version": 3
   },
   "file_extension": ".py",
   "mimetype": "text/x-python",
   "name": "python",
   "nbconvert_exporter": "python",
   "pygments_lexer": "ipython3",
   "version": "3.9.2"
  },
  "orig_nbformat": 4
 },
 "nbformat": 4,
 "nbformat_minor": 2
}
