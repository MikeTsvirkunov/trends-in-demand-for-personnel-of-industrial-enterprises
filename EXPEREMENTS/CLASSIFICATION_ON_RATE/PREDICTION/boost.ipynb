{
 "cells": [
  {
   "cell_type": "code",
   "execution_count": 44,
   "metadata": {},
   "outputs": [],
   "source": [
    "import pandas as pd\n",
    "import matplotlib.pyplot as plt\n",
    "import numpy as np\n",
    "\n",
    "from itertools import combinations, chain\n",
    "\n",
    "from catboost import CatBoostClassifier\n",
    "\n",
    "from sklearn.model_selection import train_test_split\n",
    "from sklearn.metrics import accuracy_score, confusion_matrix, classification_report, roc_curve, RocCurveDisplay, auc\n",
    "\n",
    "from joblib import dump\n",
    "from imblearn.over_sampling import SMOTE\n"
   ]
  },
  {
   "cell_type": "code",
   "execution_count": 45,
   "metadata": {},
   "outputs": [],
   "source": [
    "data = pd.read_csv(\n",
    "    '../../../DATA/Concatination_of_ters/Without_Индекс стоимости жизни/classes.csv').dropna()\n",
    "\n",
    "X, y = data.drop('Средняя численность работников, включая внешних совместителей',\n",
    "                 axis=1), data['Средняя численность работников, включая внешних совместителей']\n",
    "X_balanced, y_balanced = SMOTE().fit_resample(X, y)\n",
    "\n",
    "X_balanced['Средняя численность работников, включая внешних совместителей'] = y_balanced\n",
    "\n",
    "data_smoted = X_balanced\n",
    "X_train_smoted, X_test_smoted, y_train_smoted, y_test_smoted = train_test_split(data_smoted.drop('Средняя численность работников, включая внешних совместителей', axis=1),\n",
    "                                                                                data_smoted['Средняя численность работников, включая внешних совместителей'], test_size=0.5, random_state=0)\n"
   ]
  },
  {
   "cell_type": "code",
   "execution_count": 46,
   "metadata": {},
   "outputs": [],
   "source": [
    "cbc = CatBoostClassifier(learning_rate=0.05,\n",
    "                         task_type=\"GPU\",\n",
    "                         devices='0:4',\n",
    "                         logging_level='Silent'\n",
    "                         )\n"
   ]
  },
  {
   "cell_type": "code",
   "execution_count": 47,
   "metadata": {},
   "outputs": [
    {
     "name": "stdout",
     "output_type": "stream",
     "text": [
      "0:\tloss: 0.6452906\tbest: 0.6452906 (0)\ttotal: 267ms\tremaining: 534ms\n",
      "1:\tloss: 0.6318650\tbest: 0.6318650 (1)\ttotal: 595ms\tremaining: 298ms\n",
      "2:\tloss: 0.6233488\tbest: 0.6233488 (2)\ttotal: 923ms\tremaining: 0us\n",
      "Estimating final quality...\n"
     ]
    },
    {
     "data": {
      "text/plain": [
       "{'depth': 8, 'l2_leaf_reg': 8, 'iterations': 6, 'bootstrap_type': 'Bernoulli'}"
      ]
     },
     "execution_count": 47,
     "metadata": {},
     "output_type": "execute_result"
    }
   ],
   "source": [
    "params = {'depth': np.arange(3, 10),\n",
    "          'l2_leaf_reg': np.arange(1, 20),\n",
    "          'bootstrap_type': ['Bayesian', 'Bernoulli', 'Poisson'],\n",
    "          # 'leaf_estimation_method': [],\n",
    "          'num_trees': np.arange(1, 20),\n",
    "          #   'n_estimators': np.arange(3, 20),\n",
    "          #   'num_boost_round': np.arange(1, 20),\n",
    "          }\n",
    "catboost_classifier_best_params = cbc.randomized_search(\n",
    "    params, X=X_train_smoted[:1000], y=y_train_smoted[:1000], n_iter=3)\n",
    "\n",
    "catboost_classifier_best_params['params']\n"
   ]
  },
  {
   "cell_type": "code",
   "execution_count": 48,
   "metadata": {},
   "outputs": [
    {
     "data": {
      "text/plain": [
       "<catboost.core.CatBoostClassifier at 0x2d454ab5f40>"
      ]
     },
     "execution_count": 48,
     "metadata": {},
     "output_type": "execute_result"
    }
   ],
   "source": [
    "cbc.fit(X_train_smoted, y_train_smoted)\n"
   ]
  },
  {
   "cell_type": "code",
   "execution_count": 49,
   "metadata": {},
   "outputs": [],
   "source": [
    "y_predicted = cbc.predict(X_test_smoted).astype('bool')\n"
   ]
  },
  {
   "cell_type": "code",
   "execution_count": 50,
   "metadata": {},
   "outputs": [
    {
     "name": "stdout",
     "output_type": "stream",
     "text": [
      "[[ 0 45]\n",
      " [ 0 43]]\n"
     ]
    }
   ],
   "source": [
    "print(confusion_matrix(y_test_smoted, y_predicted))\n"
   ]
  },
  {
   "cell_type": "code",
   "execution_count": 51,
   "metadata": {},
   "outputs": [
    {
     "name": "stdout",
     "output_type": "stream",
     "text": [
      "              precision    recall  f1-score   support\n",
      "\n",
      "       False       0.00      0.00      0.00        45\n",
      "        True       0.49      1.00      0.66        43\n",
      "\n",
      "    accuracy                           0.49        88\n",
      "   macro avg       0.24      0.50      0.33        88\n",
      "weighted avg       0.24      0.49      0.32        88\n",
      "\n"
     ]
    },
    {
     "name": "stderr",
     "output_type": "stream",
     "text": [
      "c:\\Users\\Mike\\AppData\\Local\\Programs\\Python\\Python39\\lib\\site-packages\\sklearn\\metrics\\_classification.py:1344: UndefinedMetricWarning: Precision and F-score are ill-defined and being set to 0.0 in labels with no predicted samples. Use `zero_division` parameter to control this behavior.\n",
      "  _warn_prf(average, modifier, msg_start, len(result))\n",
      "c:\\Users\\Mike\\AppData\\Local\\Programs\\Python\\Python39\\lib\\site-packages\\sklearn\\metrics\\_classification.py:1344: UndefinedMetricWarning: Precision and F-score are ill-defined and being set to 0.0 in labels with no predicted samples. Use `zero_division` parameter to control this behavior.\n",
      "  _warn_prf(average, modifier, msg_start, len(result))\n",
      "c:\\Users\\Mike\\AppData\\Local\\Programs\\Python\\Python39\\lib\\site-packages\\sklearn\\metrics\\_classification.py:1344: UndefinedMetricWarning: Precision and F-score are ill-defined and being set to 0.0 in labels with no predicted samples. Use `zero_division` parameter to control this behavior.\n",
      "  _warn_prf(average, modifier, msg_start, len(result))\n"
     ]
    }
   ],
   "source": [
    "print(classification_report(y_test_smoted, y_predicted))\n"
   ]
  },
  {
   "cell_type": "code",
   "execution_count": 52,
   "metadata": {},
   "outputs": [
    {
     "name": "stderr",
     "output_type": "stream",
     "text": [
      "c:\\Users\\Mike\\AppData\\Local\\Programs\\Python\\Python39\\lib\\site-packages\\sklearn\\metrics\\_ranking.py:1020: UndefinedMetricWarning: No negative samples in y_true, false positive value should be meaningless\n",
      "  warnings.warn(\n"
     ]
    },
    {
     "data": {
      "text/plain": [
       "<sklearn.metrics._plot.roc_curve.RocCurveDisplay at 0x2d454a156d0>"
      ]
     },
     "execution_count": 52,
     "metadata": {},
     "output_type": "execute_result"
    },
    {
     "data": {
      "image/png": "[encoded data removed]",
      "text/plain": [
       "<Figure size 432x288 with 1 Axes>"
      ]
     },
     "metadata": {
      "needs_background": "light"
     },
     "output_type": "display_data"
    }
   ],
   "source": [
    "fpr, tpr, thresholds = roc_curve(y_predicted, y_test_smoted)\n",
    "roc_auc = auc(fpr, tpr)\n",
    "display = RocCurveDisplay(\n",
    "    fpr=fpr, tpr=tpr, roc_auc=roc_auc, estimator_name='example estimator')\n",
    "display.plot()\n"
   ]
  },
  {
   "cell_type": "code",
   "execution_count": 54,
   "metadata": {},
   "outputs": [
    {
     "data": {
      "text/plain": [
       "(array([nan, nan, nan]), array([0.        , 0.48863636, 1.        ]))"
      ]
     },
     "execution_count": 54,
     "metadata": {},
     "output_type": "execute_result"
    }
   ],
   "source": [
    "fpr, tpr\n"
   ]
  }
 ],
 "metadata": {
  "kernelspec": {
   "display_name": "Python 3",
   "language": "python",
   "name": "python3"
  },
  "language_info": {
   "codemirror_mode": {
    "name": "ipython",
    "version": 3
   },
   "file_extension": ".py",
   "mimetype": "text/x-python",
   "name": "python",
   "nbconvert_exporter": "python",
   "pygments_lexer": "ipython3",
   "version": "3.9.2"
  },
  "orig_nbformat": 4
 },
 "nbformat": 4,
 "nbformat_minor": 2
}
