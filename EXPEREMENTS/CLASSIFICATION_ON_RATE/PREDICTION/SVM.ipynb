{
 "cells": [
  {
   "cell_type": "code",
   "execution_count": 1,
   "metadata": {},
   "outputs": [],
   "source": [
    "import pandas as pd\n",
    "import matplotlib.pyplot as plt\n",
    "import numpy as np\n",
    "\n",
    "from sklearn.model_selection import train_test_split\n",
    "\n",
    "from sklearn.svm import SVC\n",
    "from sklearn.model_selection import GridSearchCV, RandomizedSearchCV\n",
    "\n",
    "from sklearn.metrics import accuracy_score, confusion_matrix, classification_report, roc_curve, RocCurveDisplay, auc\n",
    "\n",
    "from joblib import dump\n",
    "from imblearn.over_sampling import SMOTE\n"
   ]
  },
  {
   "cell_type": "code",
   "execution_count": 2,
   "metadata": {},
   "outputs": [],
   "source": [
    "data = pd.read_csv('../../../DATA/Concatination_of_ters/Without_Индекс стоимости жизни/classes.csv').dropna()\n"
   ]
  },
  {
   "cell_type": "code",
   "execution_count": 3,
   "metadata": {},
   "outputs": [],
   "source": [
    "X, y = data.drop('Средняя численность работников, включая внешних совместителей',\n",
    "                 axis=1), data['Средняя численность работников, включая внешних совместителей']\n",
    "X_balanced, y_balanced = SMOTE().fit_resample(X, y)\n"
   ]
  },
  {
   "cell_type": "code",
   "execution_count": 4,
   "metadata": {},
   "outputs": [],
   "source": [
    "X_balanced['Средняя численность работников, включая внешних совместителей'] = y_balanced\n"
   ]
  },
  {
   "cell_type": "code",
   "execution_count": 5,
   "metadata": {},
   "outputs": [],
   "source": [
    "data_smoted = X_balanced"
   ]
  },
  {
   "cell_type": "markdown",
   "metadata": {},
   "source": [
    "# WO Smoted"
   ]
  },
  {
   "cell_type": "code",
   "execution_count": 6,
   "metadata": {},
   "outputs": [],
   "source": [
    "X_train, X_test, y_train, y_test = train_test_split(data.drop('Средняя численность работников, включая внешних совместителей', axis=1),\n",
    "                                                    data['Средняя численность работников, включая внешних совместителей'], test_size=0.5, random_state=42)\n"
   ]
  },
  {
   "cell_type": "code",
   "execution_count": 12,
   "metadata": {},
   "outputs": [
    {
     "name": "stderr",
     "output_type": "stream",
     "text": [
      "c:\\Users\\Mike\\AppData\\Local\\Programs\\Python\\Python39\\lib\\site-packages\\sklearn\\model_selection\\_search.py:952: UserWarning: One or more of the test scores are non-finite: [       nan        nan        nan ... 0.05555556 0.05555556 0.05555556]\n",
      "  warnings.warn(\n"
     ]
    },
    {
     "data": {
      "text/plain": [
       "{'C': 1.9000000000000001,\n",
       " 'break_ties': True,\n",
       " 'decision_function_shape': 'ovr',\n",
       " 'kernel': 'sigmoid',\n",
       " 'probability': True,\n",
       " 'shrinking': True}"
      ]
     },
     "execution_count": 12,
     "metadata": {},
     "output_type": "execute_result"
    }
   ],
   "source": [
    "svc_optimal_n_neighbors = GridSearchCV(SVC(),\n",
    "                                             {'probability': [True, False],\n",
    "                                              'C': np.arange(1.8, 2, 0.01),\n",
    "                                            #   'tol': np.arange(0, 2e-3, 1e-4),\n",
    "                                            #   'degree': np.arange(0, 10, 1),\n",
    "                                            #   'gamma': ['scale'] + [*np.arange(0, 1, 0.1)],\n",
    "                                            #   'coef0': np.arange(0, 1, 0.1),\n",
    "                                              'shrinking': [True, False],\n",
    "                                              'break_ties': [True, False],\n",
    "                                              'decision_function_shape': ['ovo', 'ovr'],\n",
    "                                              'kernel': ['linear','poly','rbf','sigmoid']},\n",
    "                                              n_jobs=6,\n",
    "                                              scoring='recall',\n",
    "                                              cv=3\n",
    "                                              ).fit(X_train, y_train)\n",
    "svc_optimal_n_neighbors.best_params_\n"
   ]
  },
  {
   "cell_type": "code",
   "execution_count": 13,
   "metadata": {},
   "outputs": [],
   "source": [
    "y_predicted = svc_optimal_n_neighbors.predict(X_test)\n"
   ]
  },
  {
   "cell_type": "code",
   "execution_count": 14,
   "metadata": {},
   "outputs": [
    {
     "name": "stdout",
     "output_type": "stream",
     "text": [
      "[[38  5]\n",
      " [17  2]]\n"
     ]
    }
   ],
   "source": [
    "print(confusion_matrix(y_test, y_predicted))\n"
   ]
  },
  {
   "cell_type": "code",
   "execution_count": 15,
   "metadata": {},
   "outputs": [
    {
     "name": "stdout",
     "output_type": "stream",
     "text": [
      "              precision    recall  f1-score   support\n",
      "\n",
      "       False       0.69      0.88      0.78        43\n",
      "        True       0.29      0.11      0.15        19\n",
      "\n",
      "    accuracy                           0.65        62\n",
      "   macro avg       0.49      0.49      0.46        62\n",
      "weighted avg       0.57      0.65      0.59        62\n",
      "\n"
     ]
    }
   ],
   "source": [
    "print(classification_report(y_test, y_predicted))\n"
   ]
  },
  {
   "cell_type": "code",
   "execution_count": 16,
   "metadata": {},
   "outputs": [
    {
     "data": {
      "text/plain": [
       "<sklearn.metrics._plot.roc_curve.RocCurveDisplay at 0x24b95110730>"
      ]
     },
     "execution_count": 16,
     "metadata": {},
     "output_type": "execute_result"
    },
    {
     "data": {
      "image/png": "[encoded data removed]",
      "text/plain": [
       "<Figure size 432x288 with 1 Axes>"
      ]
     },
     "metadata": {
      "needs_background": "light"
     },
     "output_type": "display_data"
    }
   ],
   "source": [
    "fpr, tpr, thresholds = roc_curve(y_predicted, y_test)\n",
    "roc_auc = auc(fpr, tpr)\n",
    "display = RocCurveDisplay(\n",
    "    fpr=fpr, tpr=tpr, roc_auc=roc_auc, estimator_name='example estimator')\n",
    "display.plot()\n"
   ]
  },
  {
   "cell_type": "markdown",
   "metadata": {},
   "source": [
    "# W Smoted"
   ]
  },
  {
   "cell_type": "code",
   "execution_count": 19,
   "metadata": {},
   "outputs": [],
   "source": [
    "X_train_smoted, X_test_smoted, y_train_smoted, y_test_smoted = train_test_split(data_smoted.drop('Средняя численность работников, включая внешних совместителей', axis=1),\n",
    "                                                    data_smoted['Средняя численность работников, включая внешних совместителей'], test_size=0.5, random_state=42)\n"
   ]
  },
  {
   "cell_type": "code",
   "execution_count": 33,
   "metadata": {},
   "outputs": [
    {
     "name": "stderr",
     "output_type": "stream",
     "text": [
      "c:\\Users\\Mike\\AppData\\Local\\Programs\\Python\\Python39\\lib\\site-packages\\sklearn\\model_selection\\_search.py:952: UserWarning: One or more of the test scores are non-finite: [      nan       nan       nan ... 0.1007326 0.1007326 0.1007326]\n",
      "  warnings.warn(\n"
     ]
    },
    {
     "data": {
      "text/plain": [
       "{'C': 1.2000000000000002,\n",
       " 'break_ties': True,\n",
       " 'coef0': 0.0,\n",
       " 'decision_function_shape': 'ovr',\n",
       " 'degree': 0,\n",
       " 'kernel': 'linear',\n",
       " 'probability': True,\n",
       " 'shrinking': True}"
      ]
     },
     "execution_count": 33,
     "metadata": {},
     "output_type": "execute_result"
    }
   ],
   "source": [
    "svc_optimal_n_neighbors = GridSearchCV(SVC(),\n",
    "                                       {'probability': [True, False],\n",
    "                                        'C': np.arange(1, 1.5, 0.1),\n",
    "                                        #   'tol': np.arange(0, 2e-3, 1e-4),\n",
    "                                        'degree': np.arange(0, 2, 1),\n",
    "                                        #   'gamma': ['scale'] + [*np.arange(0, 1, 0.1)],\n",
    "                                        'coef0': np.arange(0, 0.2, 0.1),\n",
    "                                        'shrinking': [True, False],\n",
    "                                        'break_ties': [True, False],\n",
    "                                        'decision_function_shape': ['ovo', 'ovr'],\n",
    "                                        'kernel': ['linear', 'poly', 'rbf', 'sigmoid']},\n",
    "                                       n_jobs=6,\n",
    "                                       scoring='recall',\n",
    "                                       cv=3\n",
    "                                       ).fit(X_train_smoted, y_train_smoted)\n",
    "svc_optimal_n_neighbors.best_params_\n"
   ]
  },
  {
   "cell_type": "code",
   "execution_count": 34,
   "metadata": {},
   "outputs": [],
   "source": [
    "y_predicted = svc_optimal_n_neighbors.predict(X_test_smoted)\n"
   ]
  },
  {
   "cell_type": "code",
   "execution_count": 35,
   "metadata": {},
   "outputs": [
    {
     "name": "stdout",
     "output_type": "stream",
     "text": [
      "[[25 16]\n",
      " [16 31]]\n"
     ]
    }
   ],
   "source": [
    "print(confusion_matrix(y_test_smoted, y_predicted))\n"
   ]
  },
  {
   "cell_type": "code",
   "execution_count": 36,
   "metadata": {},
   "outputs": [
    {
     "name": "stdout",
     "output_type": "stream",
     "text": [
      "              precision    recall  f1-score   support\n",
      "\n",
      "       False       0.61      0.61      0.61        41\n",
      "        True       0.66      0.66      0.66        47\n",
      "\n",
      "    accuracy                           0.64        88\n",
      "   macro avg       0.63      0.63      0.63        88\n",
      "weighted avg       0.64      0.64      0.64        88\n",
      "\n"
     ]
    }
   ],
   "source": [
    "print(classification_report(y_test_smoted, y_predicted))\n"
   ]
  },
  {
   "cell_type": "code",
   "execution_count": 37,
   "metadata": {},
   "outputs": [
    {
     "data": {
      "text/plain": [
       "<sklearn.metrics._plot.roc_curve.RocCurveDisplay at 0x24b9733cf40>"
      ]
     },
     "execution_count": 37,
     "metadata": {},
     "output_type": "execute_result"
    },
    {
     "data": {
      "image/png": "[encoded data removed]",
      "text/plain": [
       "<Figure size 432x288 with 1 Axes>"
      ]
     },
     "metadata": {
      "needs_background": "light"
     },
     "output_type": "display_data"
    }
   ],
   "source": [
    "fpr, tpr, thresholds = roc_curve(y_predicted, y_test_smoted)\n",
    "roc_auc = auc(fpr, tpr)\n",
    "display = RocCurveDisplay(\n",
    "    fpr=fpr, tpr=tpr, roc_auc=roc_auc, estimator_name='example estimator')\n",
    "display.plot()\n"
   ]
  }
 ],
 "metadata": {
  "kernelspec": {
   "display_name": "Python 3",
   "language": "python",
   "name": "python3"
  },
  "language_info": {
   "codemirror_mode": {
    "name": "ipython",
    "version": 3
   },
   "file_extension": ".py",
   "mimetype": "text/x-python",
   "name": "python",
   "nbconvert_exporter": "python",
   "pygments_lexer": "ipython3",
   "version": "3.9.2"
  },
  "orig_nbformat": 4
 },
 "nbformat": 4,
 "nbformat_minor": 2
}
