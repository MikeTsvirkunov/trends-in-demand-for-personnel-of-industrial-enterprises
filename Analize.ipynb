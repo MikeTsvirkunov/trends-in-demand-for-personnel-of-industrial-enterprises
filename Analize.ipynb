{
 "cells": [
  {
   "cell_type": "code",
   "execution_count": 4,
   "metadata": {},
   "outputs": [
    {
     "name": "stdout",
     "output_type": "stream",
     "text": [
      "['DATA\\\\Ters\\\\Абакан.csv', 'DATA\\\\Ters\\\\Агинский Бурятский округ (Забайкальский край).csv', 'DATA\\\\Ters\\\\Алтайский край.csv', 'DATA\\\\Ters\\\\Барнаул.csv', 'DATA\\\\Ters\\\\Горно-Алтайск.csv', 'DATA\\\\Ters\\\\Забайкальский край.csv', 'DATA\\\\Ters\\\\Иркутск.csv', 'DATA\\\\Ters\\\\Иркутская область.csv', 'DATA\\\\Ters\\\\Кемерово.csv', 'DATA\\\\Ters\\\\Красноярск.csv', 'DATA\\\\Ters\\\\Красноярский край.csv', 'DATA\\\\Ters\\\\Кызыл.csv', 'DATA\\\\Ters\\\\Новосибирск.csv', 'DATA\\\\Ters\\\\Новосибирская область.csv', 'DATA\\\\Ters\\\\Омск.csv', 'DATA\\\\Ters\\\\Омская область.csv', 'DATA\\\\Ters\\\\Республика Алтай.csv', 'DATA\\\\Ters\\\\Республика Бурятия.csv', 'DATA\\\\Ters\\\\Республика Тыва.csv', 'DATA\\\\Ters\\\\Республика Хакасия.csv', 'DATA\\\\Ters\\\\Северобайкальск.csv', 'DATA\\\\Ters\\\\Таймырский (Долгано-Ненецкий) автономный округ (Красноярский край).csv', 'DATA\\\\Ters\\\\Томск.csv', 'DATA\\\\Ters\\\\Томская область.csv', 'DATA\\\\Ters\\\\Тюменская область (кроме Ханты-Мансийского автономного округа-Югры и Ямало-Ненецкого автономного округа).csv', 'DATA\\\\Ters\\\\Тюмень.csv', 'DATA\\\\Ters\\\\Улан-Удэ.csv', 'DATA\\\\Ters\\\\Усть-Ордынский Бурятский округ.csv', 'DATA\\\\Ters\\\\Ханты-Мансийск.csv', 'DATA\\\\Ters\\\\Ханты-Мансийский автономный округ - Югра (Тюменская область).csv', 'DATA\\\\Ters\\\\Эвенкийский автономный округ (Красноярский край).csv', 'DATA\\\\Ters\\\\Юрга.csv', 'DATA\\\\Ters\\\\Ямало-Ненецкий автономный округ (Тюменская область).csv']\n"
     ]
    }
   ],
   "source": [
    "import glob\n",
    "import pandas as pd\n"
   ]
  },
  {
   "cell_type": "code",
   "execution_count": null,
   "metadata": {},
   "outputs": [],
   "source": [
    "\n",
    "print(glob.glob(\"DATA\\\\Ters\\\\*\"))\n"
   ]
  }
 ],
 "metadata": {
  "kernelspec": {
   "display_name": "Python 3",
   "language": "python",
   "name": "python3"
  },
  "language_info": {
   "codemirror_mode": {
    "name": "ipython",
    "version": 3
   },
   "file_extension": ".py",
   "mimetype": "text/x-python",
   "name": "python",
   "nbconvert_exporter": "python",
   "pygments_lexer": "ipython3",
   "version": "3.9.2"
  },
  "orig_nbformat": 4
 },
 "nbformat": 4,
 "nbformat_minor": 2
}
